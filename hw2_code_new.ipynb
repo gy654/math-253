{
 "cells": [
  {
   "cell_type": "markdown",
   "metadata": {},
   "source": [
    "Problem 1"
   ]
  },
  {
   "cell_type": "code",
   "execution_count": 1,
   "metadata": {},
   "outputs": [],
   "source": [
    "import numpy as np\n",
    "import random\n",
    "import matplotlib.pyplot as plt\n",
    "from numpy.linalg import inv"
   ]
  },
  {
   "cell_type": "code",
   "execution_count": 3,
   "metadata": {},
   "outputs": [
    {
     "name": "stdout",
     "output_type": "stream",
     "text": [
      "EXPERIMENT: coef:[0.74198609 0.51915592 0.69785354], N:10,noise_intensity:0.1\n"
     ]
    }
   ],
   "source": [
    "\n",
    "def generate_c(num_c_sets):\n",
    "    coef_list = []\n",
    "    for i in range(num_c_sets):\n",
    "        coef = np.random.rand(3)\n",
    "        coef_list.append(coef)\n",
    "    return coef_list\n",
    "\n",
    "NUM_C_SETS = 1\n",
    "COEF_LIST = generate_c(NUM_C_SETS)\n",
    "# 3 different choices of N\n",
    "N_LIST = [10]#[5,10,20, 30, 40]\n",
    "NOISE_INTENSITY_LIST = [0.1, 0.5, 3]\n",
    "\n",
    "# generate N predictions yi\n",
    "def predicted_function(x_array, coef):\n",
    "    c1 = coef[0]\n",
    "    c2 = coef[1]\n",
    "    c3 = coef[2]\n",
    "    return c1 + c2 * np.exp(c3 * x_array)\n",
    "\n",
    "# randomly sample N xi\n",
    "def random_x(n):\n",
    "    return np.linspace(0,1,n)\n",
    "\n",
    "# add noise to calculated y_array to get simulated real yi_array\n",
    "def add_noise(y_array, noise_intensivity):\n",
    "    noise = noise_intensivity * np.random.randn(len(y_array))\n",
    "    yi_noise = y_array + noise\n",
    "    return yi_noise\n",
    "\n",
    "\n",
    "def y_and_fit(x_array, y_noise, c_list, coef, n, noise_intensity):\n",
    "    x_even = np.linspace(0,1, 100)\n",
    "    y_pred = predicted_function(x_even, c_list[-1])\n",
    "    initial_y = predicted_function(x_even, coef)\n",
    "    plt.scatter(x_array, y_noise)\n",
    "    plt.plot(x_even, y_pred, 'b', label = 'fit after adding noise')\n",
    "    plt.plot(x_even, initial_y, 'g', label = 'initial')\n",
    "    plt.ylim((-3,5))\n",
    "    plt.legend()\n",
    "    plt.title(f'Noise intensity:{noise_intensity}')\n",
    "    plt.show()\n",
    "    \n",
    "\n",
    "def see_cost_reduction(cost_list):\n",
    "    iteration = range(1, len(cost_list))\n",
    "    plt.scatter(iteration, cost_list[1:], s= 10)\n",
    "    plt.title('cost as iteration increases')\n",
    "    plt.xlabel('iteration')\n",
    "    plt.ylabel('cost')\n",
    "\n",
    "\n",
    "\n",
    "\n",
    "def jacobian(coef, x_array):\n",
    "    c1, c2, c3 = coef[0], coef[1], coef[2]\n",
    "    n = len(x_array)\n",
    "    first_col = np.ones(n)\n",
    "    second_col = np.exp(c3 * x_array)\n",
    "    third_col = c2 * x_array * np.exp(c3 * x_array)\n",
    "    Ja = np.array([first_col,second_col, third_col]).transpose()\n",
    "    return Ja\n",
    "# Jacobian: n * 3\n",
    "\n",
    "def residual(y_noise, y_array):\n",
    "    residual = y_noise - y_array\n",
    "    return residual\n",
    "\n",
    "def solve_v(Ja, residual):\n",
    "    A = np.matmul(np.transpose(Ja), Ja)\n",
    "    b = np.matmul(np.transpose(Ja), residual)\n",
    "    v = np.linalg.solve(A, b)\n",
    "    return v\n",
    "\n",
    "def gaussian_newton(c_initial, x_array, y_noise):\n",
    "    # initiate coefficients and cost\n",
    "    c_list = [c_initial]\n",
    "\n",
    "    cost_list = [0, np.sum(np.square(y_noise - predicted_function(x_array, c_initial)))]\n",
    "    i = 0\n",
    "    # iterate until the reduction of cost <0.0001\n",
    "    while i==1 or abs(cost_list[-1] - cost_list[-2])>0.0001:\n",
    "        cost_old = cost_list[-1]\n",
    "        c_old = c_list[-1]\n",
    "        Ja_i = jacobian(c_old, x_array)\n",
    "        residual_i = residual(y_noise, predicted_function(x_array, c_old))\n",
    "        v = solve_v(Ja_i, residual_i)\n",
    "        beta_power = 0\n",
    "        while True:\n",
    "            beta = 0.9\n",
    "            c_new = c_old - (beta)**(beta_power) * v\n",
    "            #print(f'y_noise{y_noise}')\n",
    "            #print(f'predict:{predicted_function(x_array, c_new)}')\n",
    "            cost_new = np.sum(np.square(y_noise - predicted_function(x_array, c_new)))\n",
    "            if cost_new < cost_old:\n",
    "                break\n",
    "            beta_power +=1\n",
    "        c_list.append(c_new)\n",
    "        cost_list.append(cost_new)\n",
    "        i +=1\n",
    "    i_till_convergence = i\n",
    "    return cost_list, c_list, i_till_convergence\n",
    "\n",
    "\n",
    "\n",
    "def data_generation_and_gauss_newton():\n",
    "    global COEF_LIST, N_LIST, NOISE_INTENSITY_LIST\n",
    "    \n",
    "    for i in range(len(COEF_LIST)):\n",
    "        coef = COEF_LIST[i]\n",
    "        for j in range(len(N_LIST)):\n",
    "            n = N_LIST[j]\n",
    "            x_array = random_x(n)\n",
    "            for k in range(len(NOISE_INTENSITY_LIST)):\n",
    "                noise_intensity = NOISE_INTENSITY_LIST[k]\n",
    "                y_array = predicted_function(x_array, coef)\n",
    "                y_noise = add_noise(y_array, noise_intensity)\n",
    "                print(f'EXPERIMENT: coef:{coef}, N:{n},noise_intensity:{noise_intensity}')\n",
    "                c_initial = np.array([0.7,0.9,0.8])\n",
    "                cost_list, c_list, i_till_convergence = gaussian_newton(c_initial, x_array, y_noise)\n",
    "                print(f'cost_list:{cost_list}')\n",
    "                print(f'number of iterations until convergence:{i_till_convergence}\\n')\n",
    "                #y_and_fit(x_array, y_noise, c_list, coef, n, noise_intensity)\n",
    "                see_cost_reduction(cost_list)\n",
    "        \n",
    "\n",
    "data_generation_and_gauss_newton()"
   ]
  },
  {
   "cell_type": "markdown",
   "metadata": {},
   "source": [
    "Observations: The cost conveges to a minimum value with a proper initial guess of coefficients. Initial guess of coefficients matters( in this case the magnitude of c can not be too large, the choice of c should also not induce a singular jacobian matrix). The plot shows that cost convergence trend of different combinations of randomly selected coefficients generating yis, number of xi, and noise intensity. The number of iteration till convergences vary depending on the choice of coefficients generating yis, N, and noise intensity, but the value of the cost function always shrink rapidly within the first few iterations with a good initial guess of coefficients. The speed of convergence decreases as the number of iteration increases. When the randomized coefficients generating yis and N are controlled, as the intensity of noise increases, the simulated yi becomes more scattered and the optimized cost increases, which is as expected considering the formula of MMSE. However, the number of iterations to get an optimal coefficient set c is not directly influenced by the intensity of noise. Similarly, when randomized coefficients generating yis and noise intensity are controlled, the optimized cost increases as the number of xis increases, which is also as expected given the formula of MMSE. However, the number of iterations to get an optimal coefficient set c is not directly influenced by the the number of xis. \n",
    "\n",
    "\n",
    "\n",
    "\n",
    "\n",
    "\n"
   ]
  },
  {
   "cell_type": "markdown",
   "metadata": {},
   "source": []
  },
  {
   "cell_type": "code",
   "execution_count": 139,
   "metadata": {},
   "outputs": [],
   "source": [
    "\n",
    "\n"
   ]
  },
  {
   "cell_type": "code",
   "execution_count": null,
   "metadata": {},
   "outputs": [],
   "source": []
  }
 ],
 "metadata": {
  "interpreter": {
   "hash": "eedb7593618962b1e3bbd3428675714546ff1eca2347d7d2ce49a394bdd256f3"
  },
  "kernelspec": {
   "display_name": "Python 3.8.13 ('opt')",
   "language": "python",
   "name": "python3"
  },
  "language_info": {
   "codemirror_mode": {
    "name": "ipython",
    "version": 3
   },
   "file_extension": ".py",
   "mimetype": "text/x-python",
   "name": "python",
   "nbconvert_exporter": "python",
   "pygments_lexer": "ipython3",
   "version": "3.8.13"
  },
  "orig_nbformat": 4
 },
 "nbformat": 4,
 "nbformat_minor": 2
}
